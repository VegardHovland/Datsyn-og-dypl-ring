{
 "cells": [
  {
   "cell_type": "markdown",
   "metadata": {},
   "source": [
    "# Assignment 3 Report"
   ]
  },
  {
   "cell_type": "markdown",
   "metadata": {},
   "source": [
    "# Task 1\n",
    "This is appended as scanned handwriting"
   ]
  },
  {
   "cell_type": "markdown",
   "metadata": {},
   "source": [
    "# Task 2"
   ]
  },
  {
   "cell_type": "markdown",
   "metadata": {},
   "source": [
    "## Task 2b)\n",
    "Train acc ca 0.8!\n",
    "\n",
    "![](plots/task2_plot.png)"
   ]
  },
  {
   "cell_type": "markdown",
   "metadata": {},
   "source": [
    "# Task 3\n",
    "![](plots/task3_model_1_plot.png)"
   ]
  },
  {
   "cell_type": "markdown",
   "metadata": {},
   "source": [
    "Taask 3a)\n",
    "The first improved model introduces BatchNormmilization between the covulutional and maxpool layer, and also uses a smaller kernal of 4x4 instead of 5x5. \n",
    "The 2nd improved model uses the sigmoid activation function for the output layer. The traning time is alot longer since it runs for all 10 epochs. As these were enogh to achive the task criteria, but bot at all any good. I Will explain the network architecture of the netowrk in e!"
   ]
  },
  {
   "cell_type": "markdown",
   "metadata": {},
   "source": [
    "Task 3b) Table of accuracy and loss of both models. And also a plot of the best model.\n",
    "![](plots/task3_model_2_plot.png)"
   ]
  },
  {
   "cell_type": "markdown",
   "metadata": {},
   "source": [
    "![](task3_train_loss_improved_sigmoid.png)"
   ]
  },
  {
   "cell_type": "markdown",
   "metadata": {},
   "source": [
    "Task 3c) \n",
    "What worked: One size smaller kernal and Sigmoid activation function for output layer\n",
    "What didnt work: Sigmoid for all the layers\n",
    "\n",
    "The most amount of work is redesinging the structure but is needed to achive 80% so doing that for task e :)"
   ]
  },
  {
   "cell_type": "markdown",
   "metadata": {},
   "source": [
    "Task 3d) The plot above with the sigmoid activation function for the output layer"
   ]
  },
  {
   "cell_type": "markdown",
   "metadata": {},
   "source": [
    "Task 3e) Using ReLU in convulutional layers and sigmoid on output layer. Kernal of 4. Improving this by using adam optimizer with momentum = 0.9. \n",
    "\n",
    "Redesining the structure to to the propes structure from the assignemtn text:\n",
    "(conv-relu-conv-relu-pool)x3 → (affine)x2 → softmax. \n",
    "Layer 4 and 5 the same, with sigmoid funciton. \n",
    "Final test accuracy is 0.825!\n",
    "\n",
    "\n",
    "![](plots/task3_model_3_plot.png)\n"
   ]
  },
  {
   "cell_type": "markdown",
   "metadata": {},
   "source": [
    "f) We observe that the training loss keeps decreacing even tho the validation loss flattens out. THis could be because the model is overfitting and therefor not improving on unseen data that it is not trained on. "
   ]
  },
  {
   "cell_type": "markdown",
   "metadata": {},
   "source": [
    "# Task 4\n",
    "\n",
    "## Task 4a)\n",
    "\n",
    " final test accuracy = 0.9\n",
    "![](plots/task4_model_3_plot.png)\n"
   ]
  },
  {
   "cell_type": "markdown",
   "metadata": {},
   "source": [
    "## Task 4b)\n",
    "This was kinda hard to se but here are my guesses based on structure of the filters. First one is horizontal, next is vertical. The last three is kinda hard to guess, but i think one is contrast and one is edge filtering maby? Maby four is sharpness?\n",
    "\n",
    "![](plots/task4b.png)\n",
    "\n"
   ]
  },
  {
   "cell_type": "markdown",
   "metadata": {},
   "source": [
    "## Task 4c)\n",
    "I could not do this as the last \"Øvingstime\" was used to complete the other tasks"
   ]
  },
  {
   "cell_type": "code",
   "execution_count": null,
   "metadata": {},
   "outputs": [],
   "source": []
  }
 ],
 "metadata": {
  "kernelspec": {
   "display_name": "Python 3",
   "language": "python",
   "name": "python3"
  },
  "language_info": {
   "codemirror_mode": {
    "name": "ipython",
    "version": 3
   },
   "file_extension": ".py",
   "mimetype": "text/x-python",
   "name": "python",
   "nbconvert_exporter": "python",
   "pygments_lexer": "ipython3",
   "version": "3.6.10"
  }
 },
 "nbformat": 4,
 "nbformat_minor": 4
}
