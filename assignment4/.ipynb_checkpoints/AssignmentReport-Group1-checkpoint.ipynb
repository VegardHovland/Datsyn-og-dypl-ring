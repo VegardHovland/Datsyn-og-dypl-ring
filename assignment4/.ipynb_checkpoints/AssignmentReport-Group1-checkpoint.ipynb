{
 "cells": [
  {
   "cell_type": "markdown",
   "metadata": {},
   "source": [
    "# Assignment 1 Report"
   ]
  },
  {
   "cell_type": "markdown",
   "metadata": {},
   "source": [
    "This is an outline for your report to ease the amount of work required to create your report. Jupyter notebook supports markdown, and I recommend you to check out this [cheat sheet](https://github.com/adam-p/markdown-here/wiki/Markdown-Cheatsheet). If you are not familiar with markdown.\n",
    "\n",
    "Before delivery, **remember to convert this file to PDF**. You can do it in two ways:\n",
    "1. Print the webpage (ctrl+P or cmd+P)\n",
    "2. Export with latex. This is somewhat more difficult, but you'll get somehwat of a \"prettier\" PDF. Go to File -> Download as -> PDF via LaTeX. You might have to install nbconvert and pandoc through conda; `conda install nbconvert pandoc`."
   ]
  },
  {
   "cell_type": "markdown",
   "metadata": {},
   "source": [
    "# Task 1\n",
    "All of Task 1 is shown as handwriting, aswell as som figures showing my work on other tasks!"
   ]
  },
  {
   "cell_type": "markdown",
   "metadata": {},
   "source": [
    "# Task 2\n",
    "\n",
    "### Task 2f)\n",
    "Mean average precision: 0.9066\n",
    "![](precision_recall_curve.png)\n",
    "\n"
   ]
  },
  {
   "cell_type": "markdown",
   "metadata": {},
   "source": [
    "# Task 3\n",
    "I kept these answers a little short mabey"
   ]
  },
  {
   "cell_type": "markdown",
   "metadata": {},
   "source": [
    "### Task 3a)\n",
    "\n",
    "non-maximum suppression (nms):\n",
    "Sorts the predictions by confidence scores. Then starts from the top and checks if the prev boxes have a higher iou then 0.45. If found, keep the current pred. Keep max 200 predictions. \n",
    "\n",
    "### Task 3b)\n",
    " False, small objects can only be detected in higher resolution layers\n",
    "### Task 3c)\n",
    "Using different bounding box aspect ratio at the same location makes it cover more various input object sizes and different shapes.\n",
    "\n",
    "\n",
    "### Task 3d)\n",
    "Were YOLO use two fully connected layers and SSD uses multiple convolutional layers. This predicts the offset to default boxes.\n",
    "\n",
    "### Task 3e)\n",
    "Total anchor boxes = H x W x 6 different = 38*38*6 = 8664\n",
    "\n",
    "### Task 3f)\n",
    "Total fo network = (38*38+19*19+10*10+5*5+3*3+1)*6 = 11640"
   ]
  },
  {
   "cell_type": "markdown",
   "metadata": {},
   "source": [
    "# Task 4"
   ]
  },
  {
   "cell_type": "markdown",
   "metadata": {},
   "source": [
    "## Task 4b)\n",
    "\n",
    "metrics/mAP@0.5: 0.775\n",
    "![](plots_task4/4b.png)\n",
    "\n",
    "## Task 4c)\n",
    "Making the size of the samllest achor box smaller. From 30,30 to 15,15. In order to detect the smallest numbers!\n",
    "Changing to adam optimizer.\n",
    "Changing epochs to 32 in order to do 10k iterations\n",
    "Adding some bachnormalization after the conv layers. Still not sure what the best placement of normalization layers are.\n",
    "\n",
    "metrics/mAP@0.5: 0.852\n",
    "![](plots_task4/4c.png)\n",
    "![](plots_task4/4c2.png)\n",
    "Blue is the imporved model!\n",
    "\n",
    "\n",
    "\n",
    "\n",
    "\n",
    "## Task 4d)\n",
    "I didnt not manage to do this Didnt understand what the TA were trying to tell me :)\n",
    "\n",
    "## Task 4e)\n",
    "Sorry alle these photos. It still seems to struggle with the smallest photos, and seven and ones, and six! It also seems to struggle with some of the normal size numbers. Dont really know why... Could probarly include more achor box sizes. Also on one image it seams to predict to many numbers, but cant really tell myself......\n",
    "![](plots_task4/0.png)\n",
    "![](plots_task4/1.png)\n",
    "![](plots_task4/2.png)\n",
    "![](plots_task4/3.png)\n",
    "![](plots_task4/4.png)\n",
    "![](plots_task4/5.png)\n",
    "![](plots_task4/6.png)\n",
    "![](plots_task4/7.png)\n",
    "![](plots_task4/8.png)\n",
    "![](plots_task4/9.png)\n",
    "![](plots_task4/10.png)\n",
    "![](plots_task4/11.png)\n",
    "![](plots_task4/12.png)\n",
    "![](plots_task4/13.png)\n",
    "![](plots_task4/14.png)\n",
    "\n",
    "\n",
    "\n",
    "## Task 4f)\n",
    "I had to to this on a clean install from github. Not sure if the code provided in the zip will do the same as this, beacuse i only got errors with the old code.\n",
    "![](plots_task4/4f1.png)\n",
    "![](plots_task4/4f2.png)\n",
    "I a wondering if there is an easy way to print text instead of just calss number for easier readability?\n",
    "I only got numbers 1-20, not text label so i found this online and it seems to match my results:\n",
    "![](plots_task4/classes.jpg)\n",
    "Anyways here are my results, they seem to be alright condisering 15 is a person, have fun :)\n",
    "![](plots_task4/401.png)\n",
    "![](plots_task4/402.png)\n",
    "![](plots_task4/403.png)\n",
    "![](plots_task4/404.png)\n",
    "![](plots_task4/405.png)\n",
    "![](plots_task4/406.png)\n",
    "![](plots_task4/407.png)\n",
    "![](plots_task4/408.png)\n",
    "![](plots_task4/409.png)\n",
    "![](plots_task4/410.png)\n",
    "![](plots_task4/411.png)\n",
    "![](plots_task4/412.png)\n",
    "![](plots_task4/413.png)\n",
    "![](plots_task4/414.png)\n",
    "![](plots_task4/415.png)\n",
    "![](plots_task4/416.png)\n",
    "![](plots_task4/417.png)"
   ]
  }
 ],
 "metadata": {
  "kernelspec": {
   "display_name": "Python 3",
   "language": "python",
   "name": "python3"
  },
  "language_info": {
   "codemirror_mode": {
    "name": "ipython",
    "version": 3
   },
   "file_extension": ".py",
   "mimetype": "text/x-python",
   "name": "python",
   "nbconvert_exporter": "python",
   "pygments_lexer": "ipython3",
   "version": "3.8.10"
  }
 },
 "nbformat": 4,
 "nbformat_minor": 4
}
